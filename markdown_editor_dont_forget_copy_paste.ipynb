{
 "cells": [
  {
   "cell_type": "markdown",
   "metadata": {},
   "source": [
    "# chicago-ticket-project\n",
    "\n",
    "what data do i have?\n",
    "speeding/red light tickets data (not used)\n",
    "parking/parked car violations (used)\n",
    "\n",
    "what options does the city have?\n",
    "where to send enforcement agents\n",
    "the price to set tickets\n",
    "\n",
    "(can compare the ticket writing numbers for different officers)\n",
    "(can plot the area an officer works)\n",
    "(maybe can measure the performance of different agencies)\n",
    "\n",
    "what kind of violations are there?\n",
    "what violations make the most money?\n",
    "\n",
    "\n",
    "5 figures + title slide (3 slides of eda. 2 slides of hypothesis testing)\n",
    "1 introduction to data set\n",
    "systematic sample\n",
    "\n",
    "2 overview of data set\n",
    "3 highest sources of revenue ytd 5/14/18 (parking data only) (top 5, then top 10 if time allows)\n",
    "\n",
    "|   Code   |               Violation Description               | FY2019 Revenue |\n",
    "|:--------:|:-------------------------------------------------:|:--------------:|\n",
    "| 0964125B | No city sticker vehicle under/equal to 16,000 lbs | \\$924,032.51    |\n",
    "| 0964040B | Street cleaning                                   | \\$544,842.56    |\n",
    "| 0964090E | Residential permit parking                        | \\$501,186.09    |\n",
    "| 0964190A | Exp. meter non-central business district          | \\$411,177.41    |\n",
    "| 0964150B | Parking/standing prohibited anytime               | \\$338,213.08    |\n",
    "\n",
    "4 does raising ticket price affect probability of payment? (pick violations with highest ticket prices and price increases)\n",
    "5 does raising ticket price affect number of tickets issued?\n",
    "6 which violations burden non-poor minorities (in areas without a lot of political fundraising too)\n",
    "7 which non law enforcement departments perform well? show individual officer data.\n",
    "8 future direction"
   ]
  },
  {
   "cell_type": "code",
   "execution_count": null,
   "metadata": {},
   "outputs": [],
   "source": []
  }
 ],
 "metadata": {
  "kernelspec": {
   "display_name": "Python 3",
   "language": "python",
   "name": "python3"
  },
  "language_info": {
   "codemirror_mode": {
    "name": "ipython",
    "version": 3
   },
   "file_extension": ".py",
   "mimetype": "text/x-python",
   "name": "python",
   "nbconvert_exporter": "python",
   "pygments_lexer": "ipython3",
   "version": "3.7.4"
  }
 },
 "nbformat": 4,
 "nbformat_minor": 2
}
